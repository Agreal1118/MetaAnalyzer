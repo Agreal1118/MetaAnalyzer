{
 "cells": [
  {
   "cell_type": "markdown",
   "metadata": {},
   "source": [
    "# Dziennik prowadzenia projektu licencjackiego\n",
    "\n",
    "Praca licencjacka ma na celu stworzenie narzędzia będącego w stanie rozróżniać fragmenty genomów plastydowych od prokariotycznych w badaniach metagenomicznych za pomocą uczenia maszynowego. Projekt startuję posiadając:\n",
    "1. Zestaw genomów chloroplastowych (zawartych zbiorczo w pliku plastids_db.py)\n",
    "2. Zestaw genomów prokariotycznych (zawartych w oddzielnych plikach w TOBGGENOMES.tar.gz)\n",
    "Analiza porównawcza ma obejmować następujące metody:\n",
    "1. Konwolucyjne sieci neuronowe\n",
    "2. NLP - Bag-of-words\n",
    "3. (metoda użyta w PLASFLOW) - nz\n",
    "4. (metody statystyczne) -nz\n",
    "Formy reprezentacji danych genomowych to:\n",
    "1. nz\n",
    "2. nz \n",
    "3. Word2Vec\n",
    "W przypadku powodzenia moich działań rozważane jest również dodanie rozróżniania genomów eukariotycznych.\n",
    "\n"
   ]
  },
  {
   "cell_type": "markdown",
   "metadata": {},
   "source": [
    "### 1. Pisanie fragmentera \n",
    "Otrzymane dane genomowwe zgodnie z informacjami zawartymi w otrzymanych pracach naukowych i w dyskusjach z zespołem dzielę genomy na losowe fragmenty o rozmiarze 500, 1000 i 1500 par zasad. "
   ]
  }
 ],
 "metadata": {
  "kernelspec": {
   "display_name": "Python 3",
   "language": "python",
   "name": "python3"
  },
  "language_info": {
   "codemirror_mode": {
    "name": "ipython",
    "version": 3
   },
   "file_extension": ".py",
   "mimetype": "text/x-python",
   "name": "python",
   "nbconvert_exporter": "python",
   "pygments_lexer": "ipython3",
   "version": "3.5.2"
  }
 },
 "nbformat": 4,
 "nbformat_minor": 2
}
